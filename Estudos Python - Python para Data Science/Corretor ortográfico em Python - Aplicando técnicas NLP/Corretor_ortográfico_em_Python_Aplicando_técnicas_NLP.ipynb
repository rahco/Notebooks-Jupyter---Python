{
  "nbformat": 4,
  "nbformat_minor": 0,
  "metadata": {
    "colab": {
      "name": "Corretor ortográfico em Python - Aplicando técnicas NLP.ipynb",
      "provenance": [],
      "collapsed_sections": []
    },
    "kernelspec": {
      "name": "python3",
      "display_name": "Python 3"
    },
    "language_info": {
      "name": "python"
    }
  },
  "cells": [
    {
      "cell_type": "markdown",
      "source": [
        "# Importando e normalizando o corpus do corretor"
      ],
      "metadata": {
        "id": "3O4xDa5h0Zyp"
      }
    },
    {
      "cell_type": "code",
      "execution_count": 40,
      "metadata": {
        "id": "-nzCt6SY-JMA"
      },
      "outputs": [],
      "source": [
        "# carregando a base de dados (corpus do NLP) e atribuindo a uma variável\n",
        "with open(\"artigos.txt\", \"r\") as f:\n",
        "  artigos = f.read()"
      ]
    },
    {
      "cell_type": "code",
      "source": [
        "# lendo os primeiros 500 caracteres para validar a leitura dos dados\n",
        "print(artigos[:500])"
      ],
      "metadata": {
        "colab": {
          "base_uri": "https://localhost:8080/"
        },
        "id": "qYga8UOw_N-K",
        "outputId": "74044764-3a23-4651-f1fa-44a9f8cf8984"
      },
      "execution_count": 41,
      "outputs": [
        {
          "output_type": "stream",
          "name": "stdout",
          "text": [
            "\n",
            "\n",
            "\n",
            "imagem \n",
            "\n",
            "Temos a seguinte classe que representa um usuário no nosso sistema:\n",
            "\n",
            "java\n",
            "\n",
            "Para salvar um novo usuário, várias validações são feitas, como por exemplo: Ver se o nome só contém letras, [**o CPF só números**] e ver se o usuário possui no mínimo 18 anos. Veja o método que faz essa validação:\n",
            "\n",
            "java \n",
            "\n",
            "Suponha agora que eu tenha outra classe, a classe `Produto`, que contém um atributo nome e eu quero fazer a mesma validação que fiz para o nome do usuário: Ver se só contém letras. E aí? Vou\n"
          ]
        }
      ]
    },
    {
      "cell_type": "code",
      "source": [
        "# com o len podemos verificar o número de letras existentes no corpus\n",
        "len(artigos)"
      ],
      "metadata": {
        "colab": {
          "base_uri": "https://localhost:8080/"
        },
        "id": "c2evlElj_pZ-",
        "outputId": "a282ea82-b0da-4cf3-8010-ff324ea5b029"
      },
      "execution_count": 42,
      "outputs": [
        {
          "output_type": "execute_result",
          "data": {
            "text/plain": [
              "2605046"
            ]
          },
          "metadata": {},
          "execution_count": 42
        }
      ]
    },
    {
      "cell_type": "code",
      "source": [
        "len(\"Olá\")"
      ],
      "metadata": {
        "colab": {
          "base_uri": "https://localhost:8080/"
        },
        "id": "S2Linx-2AoPJ",
        "outputId": "8c1fc641-0e47-4152-d18b-ec86206fc6fa"
      },
      "execution_count": 43,
      "outputs": [
        {
          "output_type": "execute_result",
          "data": {
            "text/plain": [
              "3"
            ]
          },
          "metadata": {},
          "execution_count": 43
        }
      ]
    },
    {
      "cell_type": "code",
      "source": [
        "texto_exemplo = \"Olá, tudo bem?\"\n",
        "palavras_separadas = texto_exemplo.split()\n",
        "print(palavras_separadas)"
      ],
      "metadata": {
        "colab": {
          "base_uri": "https://localhost:8080/"
        },
        "id": "RVL2c_4HArwF",
        "outputId": "cbe92f60-e85f-4c19-a768-5bf82285d4d2"
      },
      "execution_count": 44,
      "outputs": [
        {
          "output_type": "stream",
          "name": "stdout",
          "text": [
            "['Olá,', 'tudo', 'bem?']\n"
          ]
        }
      ]
    },
    {
      "cell_type": "code",
      "source": [
        "print(len(palavras_separadas))"
      ],
      "metadata": {
        "colab": {
          "base_uri": "https://localhost:8080/"
        },
        "id": "cwXQS6ntBFI4",
        "outputId": "80df874c-cadf-430f-e8dc-f83d69f3ca30"
      },
      "execution_count": 45,
      "outputs": [
        {
          "output_type": "stream",
          "name": "stdout",
          "text": [
            "3\n"
          ]
        }
      ]
    },
    {
      "cell_type": "code",
      "source": [
        "# ao utilizarmos o comando .split() criamos uma lista com uma separação de sentenças de textos, porém como na separação ele engloba símbolso como ,?! agregado a plavravas damos o nome dessa separação de token\n",
        "texto_exemplo = \"Olá, tudo bem?\"\n",
        "tokens = texto_exemplo.split()\n",
        "print(tokens)\n",
        "print(len(tokens))"
      ],
      "metadata": {
        "colab": {
          "base_uri": "https://localhost:8080/"
        },
        "id": "352Wd6LKBW0V",
        "outputId": "5c651b01-6324-4641-ab99-222f2d591ed3"
      },
      "execution_count": 46,
      "outputs": [
        {
          "output_type": "stream",
          "name": "stdout",
          "text": [
            "['Olá,', 'tudo', 'bem?']\n",
            "3\n"
          ]
        }
      ]
    },
    {
      "cell_type": "code",
      "source": [
        "# a biblioteca nltk possuem funções que fazem a separação mais precisa de palavras em um texto\n",
        "# com o comando nltk.tokenize.word_tokenize separamos as palavras em uma nova variável \n",
        "import nltk \n",
        "nltk.download('punkt')\n",
        "palavras_separadas = nltk.tokenize.word_tokenize(texto_exemplo)"
      ],
      "metadata": {
        "colab": {
          "base_uri": "https://localhost:8080/"
        },
        "id": "ox6W1dOtCBXM",
        "outputId": "b8589524-8cee-4e1b-b67d-f67293cb1ab6"
      },
      "execution_count": 47,
      "outputs": [
        {
          "output_type": "stream",
          "name": "stdout",
          "text": [
            "[nltk_data] Downloading package punkt to /root/nltk_data...\n",
            "[nltk_data]   Package punkt is already up-to-date!\n"
          ]
        }
      ]
    },
    {
      "cell_type": "code",
      "source": [
        "print(palavras_separadas)"
      ],
      "metadata": {
        "colab": {
          "base_uri": "https://localhost:8080/"
        },
        "id": "Ikn2Vu0lDjLO",
        "outputId": "3864c4af-4607-473f-e787-aef6d9aaed60"
      },
      "execution_count": 48,
      "outputs": [
        {
          "output_type": "stream",
          "name": "stdout",
          "text": [
            "['Olá', ',', 'tudo', 'bem', '?']\n"
          ]
        }
      ]
    },
    {
      "cell_type": "code",
      "source": [
        "len(palavras_separadas)"
      ],
      "metadata": {
        "colab": {
          "base_uri": "https://localhost:8080/"
        },
        "id": "TwX1zwpdEC3W",
        "outputId": "d2a2db33-4af6-4e47-dc93-994f6a140cdf"
      },
      "execution_count": 49,
      "outputs": [
        {
          "output_type": "execute_result",
          "data": {
            "text/plain": [
              "5"
            ]
          },
          "metadata": {},
          "execution_count": 49
        }
      ]
    },
    {
      "cell_type": "code",
      "source": [
        "# com o comando .isalpha podemos verificar um str e verificar se ela possue apenas letras ou não\n",
        "'palavra1'.isalpha()"
      ],
      "metadata": {
        "colab": {
          "base_uri": "https://localhost:8080/"
        },
        "id": "r3ditSZBFF95",
        "outputId": "4c284f47-987f-43a0-b0e6-75b0b216989a"
      },
      "execution_count": 50,
      "outputs": [
        {
          "output_type": "execute_result",
          "data": {
            "text/plain": [
              "False"
            ]
          },
          "metadata": {},
          "execution_count": 50
        }
      ]
    },
    {
      "cell_type": "code",
      "source": [
        "# criando uma função podemos rodar um for com o comando .isalpha em nossa lista de tokens criados pelo comando nltk para separar em uma nova lista apenas palavras\n",
        "def separa_palavras(lista_tokens):\n",
        "  lista_palavras = []\n",
        "  for token in lista_tokens:\n",
        "    if token.isalpha():\n",
        "      lista_palavras.append(token)\n",
        "  return lista_palavras\n",
        "\n",
        "separa_palavras(palavras_separadas)"
      ],
      "metadata": {
        "colab": {
          "base_uri": "https://localhost:8080/"
        },
        "id": "HuX3GhPSEytV",
        "outputId": "fa28a736-475c-4689-8ce9-7bff9a8ab8ba"
      },
      "execution_count": 51,
      "outputs": [
        {
          "output_type": "execute_result",
          "data": {
            "text/plain": [
              "['Olá', 'tudo', 'bem']"
            ]
          },
          "metadata": {},
          "execution_count": 51
        }
      ]
    },
    {
      "cell_type": "code",
      "source": [
        "# unindo conceitos, encontramos no corpus a quantidade de palavras disponíveis\n",
        "lista_tokens = nltk.tokenize.word_tokenize(artigos)\n",
        "lista_palavras = separa_palavras(lista_tokens)\n",
        "print(f\"O número de palavras em nosso corpus é {len(lista_palavras)}\")"
      ],
      "metadata": {
        "colab": {
          "base_uri": "https://localhost:8080/"
        },
        "id": "bVNs3Va2FzWt",
        "outputId": "cb74cd99-0101-431b-d54a-267da4058990"
      },
      "execution_count": 52,
      "outputs": [
        {
          "output_type": "stream",
          "name": "stdout",
          "text": [
            "O número de palavras em nosso corpus é 393914\n"
          ]
        }
      ]
    },
    {
      "cell_type": "code",
      "source": [
        "print(lista_palavras[:5])"
      ],
      "metadata": {
        "colab": {
          "base_uri": "https://localhost:8080/"
        },
        "id": "_vAKRhNDGs7S",
        "outputId": "0ce540f2-b2dc-4cf7-e679-b663b3696d30"
      },
      "execution_count": 53,
      "outputs": [
        {
          "output_type": "stream",
          "name": "stdout",
          "text": [
            "['imagem', 'Temos', 'a', 'seguinte', 'classe']\n"
          ]
        }
      ]
    },
    {
      "cell_type": "code",
      "source": [
        "# para contar os tipos de palavras primeiro precizamos normalizar o texto removendo qualquer tipo de maíscula nos caracteres\n",
        "# com a função normalização tornamos todos os caracteres do curpus em letras minúsculas\n",
        "def normalizacao(lista_palavras):\n",
        "  lista_normalizada = []\n",
        "  for palavra in lista_palavras:\n",
        "    lista_normalizada.append(palavra.lower())\n",
        "  return lista_normalizada\n",
        "\n",
        "lista_normalizada = normalizacao(lista_palavras)\n",
        "print(lista_normalizada[:5])"
      ],
      "metadata": {
        "colab": {
          "base_uri": "https://localhost:8080/"
        },
        "id": "p1w73VlyHrtV",
        "outputId": "64c69a0f-39c0-4d8d-fb90-5c149d8a5dd7"
      },
      "execution_count": 54,
      "outputs": [
        {
          "output_type": "stream",
          "name": "stdout",
          "text": [
            "['imagem', 'temos', 'a', 'seguinte', 'classe']\n"
          ]
        }
      ]
    },
    {
      "cell_type": "code",
      "source": [
        "# com o comando set() agrupamos em uma lista os item únicos de uma lista\n",
        "set([1,2,3,3,3,5,6,6,6,7])"
      ],
      "metadata": {
        "colab": {
          "base_uri": "https://localhost:8080/"
        },
        "id": "iqvteXAEISsm",
        "outputId": "e1d9be80-90f3-4d61-a2bb-7f276ee0027c"
      },
      "execution_count": 55,
      "outputs": [
        {
          "output_type": "execute_result",
          "data": {
            "text/plain": [
              "{1, 2, 3, 5, 6, 7}"
            ]
          },
          "metadata": {},
          "execution_count": 55
        }
      ]
    },
    {
      "cell_type": "code",
      "source": [
        "# aplicando o len junto ao set podemos obter a quantidade de palavras únicas dentro o corpus\n",
        "len(set(lista_normalizada))"
      ],
      "metadata": {
        "colab": {
          "base_uri": "https://localhost:8080/"
        },
        "id": "dEEuHvlBJWXe",
        "outputId": "d805f436-5973-4bb3-8d24-d74fc34958aa"
      },
      "execution_count": 56,
      "outputs": [
        {
          "output_type": "execute_result",
          "data": {
            "text/plain": [
              "17652"
            ]
          },
          "metadata": {},
          "execution_count": 56
        }
      ]
    },
    {
      "cell_type": "markdown",
      "source": [
        "# 1ª Solução do corretor - Inserindo caracter faltante na palavra errada"
      ],
      "metadata": {
        "id": "3DVXIrSE0DX-"
      }
    },
    {
      "cell_type": "code",
      "source": [
        "lista = 'lgica'\n",
        "(lista[:1],lista[1:])"
      ],
      "metadata": {
        "colab": {
          "base_uri": "https://localhost:8080/"
        },
        "id": "iuDzhSR5hhRF",
        "outputId": "ca951ca3-28c8-41e6-d606-e849f0e93130"
      },
      "execution_count": 57,
      "outputs": [
        {
          "output_type": "execute_result",
          "data": {
            "text/plain": [
              "('l', 'gica')"
            ]
          },
          "metadata": {},
          "execution_count": 57
        }
      ]
    },
    {
      "cell_type": "code",
      "source": [
        "palavra_exemplo = 'lgica'\n",
        "\n",
        "# o primeiro passo para criação do corretor é através do impute de uma palavra errada, gerar as multiplas palavras que podem ser geradas a partir desta adicionando todas as letras do alfabeto em todas as posições possíveis\n",
        "# para gerar a lista de novas palavras criamos uma função para inserir letras e uma outra com um gerador de novas palavras\n",
        "\n",
        "def insere_letras(fatias):\n",
        "  novas_palavras = []\n",
        "  letras = 'abcdefghijklmnopqrstuvwxyzàáâãèéêìíîòóôõùúûç'\n",
        "  for E, D in fatias:\n",
        "    for letra in letras:\n",
        "      novas_palavras.append(E + letra + D)\n",
        "  return novas_palavras\n",
        "\n",
        "def gerador_palavras(palavra):\n",
        "  fatias = []\n",
        "  for i in range(len(palavra) + 1):\n",
        "    fatias.append((palavra[:i],palavra[i:]))\n",
        "  palavras_geradas = insere_letras(fatias)\n",
        "  return palavras_geradas\n",
        "\n",
        "palavras_geradas = gerador_palavras(palavra_exemplo)\n",
        "print(palavras_geradas)"
      ],
      "metadata": {
        "colab": {
          "base_uri": "https://localhost:8080/"
        },
        "id": "5iSL2UwThQrc",
        "outputId": "f488afc5-3e6d-4943-a0ff-012510380483"
      },
      "execution_count": 58,
      "outputs": [
        {
          "output_type": "stream",
          "name": "stdout",
          "text": [
            "['algica', 'blgica', 'clgica', 'dlgica', 'elgica', 'flgica', 'glgica', 'hlgica', 'ilgica', 'jlgica', 'klgica', 'llgica', 'mlgica', 'nlgica', 'olgica', 'plgica', 'qlgica', 'rlgica', 'slgica', 'tlgica', 'ulgica', 'vlgica', 'wlgica', 'xlgica', 'ylgica', 'zlgica', 'àlgica', 'álgica', 'âlgica', 'ãlgica', 'èlgica', 'élgica', 'êlgica', 'ìlgica', 'ílgica', 'îlgica', 'òlgica', 'ólgica', 'ôlgica', 'õlgica', 'ùlgica', 'úlgica', 'ûlgica', 'çlgica', 'lagica', 'lbgica', 'lcgica', 'ldgica', 'legica', 'lfgica', 'lggica', 'lhgica', 'ligica', 'ljgica', 'lkgica', 'llgica', 'lmgica', 'lngica', 'logica', 'lpgica', 'lqgica', 'lrgica', 'lsgica', 'ltgica', 'lugica', 'lvgica', 'lwgica', 'lxgica', 'lygica', 'lzgica', 'làgica', 'lágica', 'lâgica', 'lãgica', 'lègica', 'légica', 'lêgica', 'lìgica', 'lígica', 'lîgica', 'lògica', 'lógica', 'lôgica', 'lõgica', 'lùgica', 'lúgica', 'lûgica', 'lçgica', 'lgaica', 'lgbica', 'lgcica', 'lgdica', 'lgeica', 'lgfica', 'lggica', 'lghica', 'lgiica', 'lgjica', 'lgkica', 'lglica', 'lgmica', 'lgnica', 'lgoica', 'lgpica', 'lgqica', 'lgrica', 'lgsica', 'lgtica', 'lguica', 'lgvica', 'lgwica', 'lgxica', 'lgyica', 'lgzica', 'lgàica', 'lgáica', 'lgâica', 'lgãica', 'lgèica', 'lgéica', 'lgêica', 'lgìica', 'lgíica', 'lgîica', 'lgòica', 'lgóica', 'lgôica', 'lgõica', 'lgùica', 'lgúica', 'lgûica', 'lgçica', 'lgiaca', 'lgibca', 'lgicca', 'lgidca', 'lgieca', 'lgifca', 'lgigca', 'lgihca', 'lgiica', 'lgijca', 'lgikca', 'lgilca', 'lgimca', 'lginca', 'lgioca', 'lgipca', 'lgiqca', 'lgirca', 'lgisca', 'lgitca', 'lgiuca', 'lgivca', 'lgiwca', 'lgixca', 'lgiyca', 'lgizca', 'lgiàca', 'lgiáca', 'lgiâca', 'lgiãca', 'lgièca', 'lgiéca', 'lgiêca', 'lgiìca', 'lgiíca', 'lgiîca', 'lgiòca', 'lgióca', 'lgiôca', 'lgiõca', 'lgiùca', 'lgiúca', 'lgiûca', 'lgiçca', 'lgicaa', 'lgicba', 'lgicca', 'lgicda', 'lgicea', 'lgicfa', 'lgicga', 'lgicha', 'lgicia', 'lgicja', 'lgicka', 'lgicla', 'lgicma', 'lgicna', 'lgicoa', 'lgicpa', 'lgicqa', 'lgicra', 'lgicsa', 'lgicta', 'lgicua', 'lgicva', 'lgicwa', 'lgicxa', 'lgicya', 'lgicza', 'lgicàa', 'lgicáa', 'lgicâa', 'lgicãa', 'lgicèa', 'lgicéa', 'lgicêa', 'lgicìa', 'lgicía', 'lgicîa', 'lgicòa', 'lgicóa', 'lgicôa', 'lgicõa', 'lgicùa', 'lgicúa', 'lgicûa', 'lgicça', 'lgicaa', 'lgicab', 'lgicac', 'lgicad', 'lgicae', 'lgicaf', 'lgicag', 'lgicah', 'lgicai', 'lgicaj', 'lgicak', 'lgical', 'lgicam', 'lgican', 'lgicao', 'lgicap', 'lgicaq', 'lgicar', 'lgicas', 'lgicat', 'lgicau', 'lgicav', 'lgicaw', 'lgicax', 'lgicay', 'lgicaz', 'lgicaà', 'lgicaá', 'lgicaâ', 'lgicaã', 'lgicaè', 'lgicaé', 'lgicaê', 'lgicaì', 'lgicaí', 'lgicaî', 'lgicaò', 'lgicaó', 'lgicaô', 'lgicaõ', 'lgicaù', 'lgicaú', 'lgicaû', 'lgicaç']\n"
          ]
        }
      ]
    },
    {
      "cell_type": "code",
      "source": [
        "def corretor (palavra):\n",
        "  palavras_geradas = gerador_palavras(palavra)\n",
        "  palavra_correta = max(palavras_geradas, key=probabilidade)\n",
        "  return palavra_correta"
      ],
      "metadata": {
        "id": "yW1yMdMwkXG2"
      },
      "execution_count": 59,
      "outputs": []
    },
    {
      "cell_type": "code",
      "source": [
        "# com o comando nltk.FreqDist temos uma lista de tuplas com a palavra e a quantidade de vezes que a mesma é repedita no corpus\n",
        "frequencia = nltk.FreqDist(lista_normalizada)\n",
        "total_palavras = len(lista_normalizada)\n",
        "frequencia.most_common(10)"
      ],
      "metadata": {
        "colab": {
          "base_uri": "https://localhost:8080/"
        },
        "id": "1igrT839qw5n",
        "outputId": "bfa89412-16f5-4dc6-9ad4-c9c4757bba4e"
      },
      "execution_count": 60,
      "outputs": [
        {
          "output_type": "execute_result",
          "data": {
            "text/plain": [
              "[('de', 15494),\n",
              " ('o', 13966),\n",
              " ('que', 12225),\n",
              " ('a', 11034),\n",
              " ('e', 10478),\n",
              " ('para', 7694),\n",
              " ('um', 6346),\n",
              " ('é', 5881),\n",
              " ('uma', 5202),\n",
              " ('do', 5116)]"
            ]
          },
          "metadata": {},
          "execution_count": 60
        }
      ]
    },
    {
      "cell_type": "code",
      "source": [
        "def probabilidade(palavra_gerada):\n",
        "  return frequencia[palavra_gerada]/total_palavras\n",
        "probabilidade(\"lógica\")"
      ],
      "metadata": {
        "colab": {
          "base_uri": "https://localhost:8080/"
        },
        "id": "8b8zqULtrZ41",
        "outputId": "44dad10e-a3b0-4056-c337-31a5ffda3c1e"
      },
      "execution_count": 61,
      "outputs": [
        {
          "output_type": "execute_result",
          "data": {
            "text/plain": [
              "0.00022086039084673304"
            ]
          },
          "metadata": {},
          "execution_count": 61
        }
      ]
    },
    {
      "cell_type": "code",
      "source": [
        "palavra_exemplo = 'lgica'\n",
        "corretor(palavra_exemplo)"
      ],
      "metadata": {
        "colab": {
          "base_uri": "https://localhost:8080/",
          "height": 35
        },
        "id": "ZlURlH2hsB4R",
        "outputId": "5233747c-3945-4b40-a5d2-1b3e4cc874b5"
      },
      "execution_count": 62,
      "outputs": [
        {
          "output_type": "execute_result",
          "data": {
            "text/plain": [
              "'lógica'"
            ],
            "application/vnd.google.colaboratory.intrinsic+json": {
              "type": "string"
            }
          },
          "metadata": {},
          "execution_count": 62
        }
      ]
    },
    {
      "cell_type": "code",
      "source": [
        "def cria_dados_teste(nome_arquivo):\n",
        "  lista_palavras_teste = []\n",
        "  f = open(nome_arquivo, \"r\")\n",
        "  for linha in f:\n",
        "    correta, errada = linha.split()\n",
        "    lista_palavras_teste.append((correta, errada))\n",
        "  f.close()\n",
        "  return lista_palavras_teste\n",
        "\n",
        "lista_teste = cria_dados_teste(\"palavras.txt\")\n",
        "lista_teste"
      ],
      "metadata": {
        "id": "qYjfntpisWPj",
        "colab": {
          "base_uri": "https://localhost:8080/"
        },
        "outputId": "e241114e-629d-4f28-c595-66968acee84c"
      },
      "execution_count": 63,
      "outputs": [
        {
          "output_type": "execute_result",
          "data": {
            "text/plain": [
              "[('podemos', 'pyodemos'),\n",
              " ('esse', 'esje'),\n",
              " ('já', 'jrá'),\n",
              " ('nosso', 'nossov'),\n",
              " ('são', 'sãêo'),\n",
              " ('dos', 'dosa'),\n",
              " ('muito', 'muifo'),\n",
              " ('imagem', 'iômagem'),\n",
              " ('sua', 'ósua'),\n",
              " ('também', 'tambéùm'),\n",
              " ('ele', 'eme'),\n",
              " ('fazer', 'èazer'),\n",
              " ('temos', 'temfs'),\n",
              " ('essa', 'eàssa'),\n",
              " ('quando', 'quaôdo'),\n",
              " ('vamos', 'vamvos'),\n",
              " ('sobre', 'hsobre'),\n",
              " ('java', 'sjava'),\n",
              " ('das', 'daõs'),\n",
              " ('agora', 'agorah'),\n",
              " ('está', 'eòtá'),\n",
              " ('cada', 'céda'),\n",
              " ('mesmo', 'zmesmo'),\n",
              " ('nos', 'noâ'),\n",
              " ('forma', 'fobma'),\n",
              " ('seja', 'sejéa'),\n",
              " ('então', 'enêão'),\n",
              " ('criar', 'èriar'),\n",
              " ('código', 'cóeigo'),\n",
              " ('caso', 'casío'),\n",
              " ('exemplo', 'áexemplo'),\n",
              " ('tem', 'tĩem'),\n",
              " ('usuário', 'usuárôio'),\n",
              " ('dados', 'dfados'),\n",
              " ('python', 'pgthon'),\n",
              " ('nossa', 'nossah'),\n",
              " ('além', 'alémè'),\n",
              " ('assim', 'asõim'),\n",
              " ('ter', 'teb'),\n",
              " ('até', 'atĩ'),\n",
              " ('bem', 'âem'),\n",
              " ('design', 'desigen'),\n",
              " ('trabalho', 'trabalàho'),\n",
              " ('foi', 'foo'),\n",
              " ('apenas', 'apenaũ'),\n",
              " ('empresa', 'empresà'),\n",
              " ('valor', 'valíor'),\n",
              " ('será', 'serr'),\n",
              " ('entre', 'entke'),\n",
              " ('método', 'méqodo'),\n",
              " ('precisamos', 'precisamops'),\n",
              " ('ainda', 'ainàa'),\n",
              " ('vai', 'van'),\n",
              " ('conteúdo', 'ûconteúdo'),\n",
              " ('seus', 'çeus'),\n",
              " ('eu', 'eû'),\n",
              " ('todos', 'todtos'),\n",
              " ('tempo', 'temeo'),\n",
              " ('sempre', 'semre'),\n",
              " ('qual', 'quakl'),\n",
              " ('ela', 'elaá'),\n",
              " ('só', 'síó'),\n",
              " ('utilizar', 'utiqizar'),\n",
              " ('projeto', 'prhojeto'),\n",
              " ('site', 'siàe'),\n",
              " ('sem', 'seém'),\n",
              " ('pelo', 'peln'),\n",
              " ('alura', 'aléra'),\n",
              " ('dia', 'tdia'),\n",
              " ('tudo', 'tuúo'),\n",
              " ('podemos', 'kpodemos'),\n",
              " ('esse', 'eẽsse'),\n",
              " ('já', 'jé'),\n",
              " ('nosso', 'nçosso'),\n",
              " ('são', 'sãô'),\n",
              " ('dos', 'odos'),\n",
              " ('muito', 'tuito'),\n",
              " ('imagem', 'imõgem'),\n",
              " ('sua', 'siua'),\n",
              " ('também', 'tamvbém'),\n",
              " ('ele', 'elpe'),\n",
              " ('fazer', 'façzer'),\n",
              " ('temos', 'teos'),\n",
              " ('essa', 'eũsa'),\n",
              " ('quando', 'quaìdo'),\n",
              " ('vamos', 'vjmos'),\n",
              " ('sobre', 'sxobre'),\n",
              " ('java', 'jkva'),\n",
              " ('das', 'dms'),\n",
              " ('agora', 'agtora'),\n",
              " ('está', 'esútá'),\n",
              " ('cada', 'cava'),\n",
              " ('mesmo', 'medmo'),\n",
              " ('nos', 'ános'),\n",
              " ('forma', 'forûa'),\n",
              " ('seja', 'smeja'),\n",
              " ('então', 'enjtão'),\n",
              " ('criar', 'criôar'),\n",
              " ('código', 'cóàigo'),\n",
              " ('caso', 'èaso'),\n",
              " ('exemplo', 'exbemplo'),\n",
              " ('tem', 'túem'),\n",
              " ('usuário', 'usuárin'),\n",
              " ('dados', 'daáos'),\n",
              " ('python', 'pythoçn'),\n",
              " ('nossa', 'nossk'),\n",
              " ('além', 'âlém'),\n",
              " ('assim', 'aóssim'),\n",
              " ('ter', 'tãer'),\n",
              " ('até', 'vté'),\n",
              " ('bem', 'búm'),\n",
              " ('design', 'íesign'),\n",
              " ('trabalho', 'trabèalho'),\n",
              " ('foi', 'kfoi'),\n",
              " ('apenas', 'aapenas'),\n",
              " ('empresa', 'pmpresa'),\n",
              " ('valor', 'valoqr'),\n",
              " ('será', 'sçerá'),\n",
              " ('entre', 'entró'),\n",
              " ('método', 'nétodo'),\n",
              " ('precisamos', 'prefcisamos'),\n",
              " ('ainda', 'sainda'),\n",
              " ('vai', 'uai'),\n",
              " ('conteúdo', 'cĩonteúdo'),\n",
              " ('seus', 'sâus'),\n",
              " ('eu', 'ìeu'),\n",
              " ('todos', 'todás'),\n",
              " ('tempo', 'utempo'),\n",
              " ('sempre', 'sempce'),\n",
              " ('qual', 'fual'),\n",
              " ('ela', 'elal'),\n",
              " ('só', 'skó'),\n",
              " ('utilizar', 'utilĩzar'),\n",
              " ('projeto', 'proójeto'),\n",
              " ('site', 'isite'),\n",
              " ('sem', 'secm'),\n",
              " ('pelo', 'pẽlo'),\n",
              " ('alura', 'aluéa'),\n",
              " ('dia', 'dil'),\n",
              " ('tudo', 'tudy'),\n",
              " ('ela', 'qelay'),\n",
              " ('só', 'sód'),\n",
              " ('utilizar', 'dtilizacr'),\n",
              " ('projeto', 'bprojõto'),\n",
              " ('site', 'ysiteo'),\n",
              " ('sem', 'sõêm'),\n",
              " ('pelo', 'peàli'),\n",
              " ('alura', 'asuraó'),\n",
              " ('dia', 'deiìa'),\n",
              " ('tudo', 'tuĩdoì'),\n",
              " ('ela', 'eúaa'),\n",
              " ('só', 'ró'),\n",
              " ('utilizar', 'utilizẽaçr'),\n",
              " ('projeto', 'prêjetó'),\n",
              " ('site', 'sqiqte'),\n",
              " ('sem', 'sũexm'),\n",
              " ('pelo', 'pçlxo'),\n",
              " ('alura', 'uluraa'),\n",
              " ('dia', 'dĩaz'),\n",
              " ('tudo', 'kzudo'),\n",
              " ('corretor', 'correptor'),\n",
              " ('tática', 'trtica'),\n",
              " ('empoderamento', 'ewpoderamento'),\n",
              " ('linux', 'lifux'),\n",
              " ('cachorro', 'cachoçro'),\n",
              " ('gato', 'îgato'),\n",
              " ('cavalo', 'cakvalo'),\n",
              " ('relógio', 'relógiuo'),\n",
              " ('canela', 'canelac'),\n",
              " ('tênis', 'tênisy'),\n",
              " ('ansiosa', 'anciosa'),\n",
              " ('ansiosa', 'ancciosa'),\n",
              " ('ansiosa', 'ansioa'),\n",
              " ('empoderamento', 'empoderamento'),\n",
              " ('asterisco', 'asterístico'),\n",
              " ('gratuito', 'gratuíto'),\n",
              " ('entretido', 'entertido'),\n",
              " ('ritmo', 'ritimo'),\n",
              " ('idiota', 'indiota'),\n",
              " ('tomara', 'tomare'),\n",
              " ('seja', 'seje'),\n",
              " ('prevalecer', 'provalecer'),\n",
              " ('esteja', 'esteje'),\n",
              " ('mendigo', 'mindigo'),\n",
              " ('cérebro', 'célebro'),\n",
              " ('perturbar', 'pertubar')]"
            ]
          },
          "metadata": {},
          "execution_count": 63
        }
      ]
    },
    {
      "cell_type": "code",
      "source": [
        "# função avaliador para verificar o percentual de correção do corretor com apenas uma solução aplicada\n",
        "def avaliador (testes):\n",
        "    numero_palavras = len(testes)\n",
        "    acertou = 0\n",
        "    for correta, errada in testes:\n",
        "        palavra_corrigida = corretor(errada)\n",
        "        if palavra_corrigida == correta:\n",
        "            acertou += 1\n",
        "    taxa_acerto = round(acertou*100/numero_palavras, 2)\n",
        "    print(f\"{taxa_acerto}% de {numero_palavras} palavras\")\n",
        "\n",
        "avaliador(lista_teste)"
      ],
      "metadata": {
        "colab": {
          "base_uri": "https://localhost:8080/"
        },
        "id": "zHCIJnZlxyQl",
        "outputId": "278797f2-332d-40a6-e469-dae2f9114e86"
      },
      "execution_count": 64,
      "outputs": [
        {
          "output_type": "stream",
          "name": "stdout",
          "text": [
            "1.08% de 186 palavras\n"
          ]
        }
      ]
    },
    {
      "cell_type": "markdown",
      "source": [
        "# 2ª Solução do corretor - Deletando caracter errado na palavra errada"
      ],
      "metadata": {
        "id": "CggWidqq0lKy"
      }
    },
    {
      "cell_type": "code",
      "source": [
        "def deletando_caracteres(fatias):\n",
        "    novas_palavras = []\n",
        "    for E, D in fatias:\n",
        "        novas_palavras.append(E + D[1:])\n",
        "    return novas_palavras"
      ],
      "metadata": {
        "id": "0sum2UyE1P7p"
      },
      "execution_count": 65,
      "outputs": []
    },
    {
      "cell_type": "code",
      "source": [
        "# com a atualização da função gerador de palavras adicionando a função deletando caracteres otimizamos o corretor\n",
        "def gerador_palavras(palavra):\n",
        "    fatias = []\n",
        "    for i in range(len(palavra)+1):\n",
        "        fatias.append((palavra[:i],palavra[i:]))\n",
        "    palavras_geradas = insere_letras(fatias)\n",
        "    palavras_geradas += deletando_caracteres(fatias)\n",
        "    return palavras_geradas\n",
        "palavra_exemplo = \"lóigica\"\n",
        "palavras_geradas = gerador_palavras(palavra_exemplo)\n",
        "print(palavras_geradas)"
      ],
      "metadata": {
        "colab": {
          "base_uri": "https://localhost:8080/"
        },
        "id": "d7tF6F7U0gip",
        "outputId": "46d4264e-c46a-4507-ff61-41d282cbe16a"
      },
      "execution_count": 66,
      "outputs": [
        {
          "output_type": "stream",
          "name": "stdout",
          "text": [
            "['alóigica', 'blóigica', 'clóigica', 'dlóigica', 'elóigica', 'flóigica', 'glóigica', 'hlóigica', 'ilóigica', 'jlóigica', 'klóigica', 'llóigica', 'mlóigica', 'nlóigica', 'olóigica', 'plóigica', 'qlóigica', 'rlóigica', 'slóigica', 'tlóigica', 'ulóigica', 'vlóigica', 'wlóigica', 'xlóigica', 'ylóigica', 'zlóigica', 'àlóigica', 'álóigica', 'âlóigica', 'ãlóigica', 'èlóigica', 'élóigica', 'êlóigica', 'ìlóigica', 'ílóigica', 'îlóigica', 'òlóigica', 'ólóigica', 'ôlóigica', 'õlóigica', 'ùlóigica', 'úlóigica', 'ûlóigica', 'çlóigica', 'laóigica', 'lbóigica', 'lcóigica', 'ldóigica', 'leóigica', 'lfóigica', 'lgóigica', 'lhóigica', 'lióigica', 'ljóigica', 'lkóigica', 'llóigica', 'lmóigica', 'lnóigica', 'loóigica', 'lpóigica', 'lqóigica', 'lróigica', 'lsóigica', 'ltóigica', 'luóigica', 'lvóigica', 'lwóigica', 'lxóigica', 'lyóigica', 'lzóigica', 'làóigica', 'láóigica', 'lâóigica', 'lãóigica', 'lèóigica', 'léóigica', 'lêóigica', 'lìóigica', 'líóigica', 'lîóigica', 'lòóigica', 'lóóigica', 'lôóigica', 'lõóigica', 'lùóigica', 'lúóigica', 'lûóigica', 'lçóigica', 'lóaigica', 'lóbigica', 'lócigica', 'lódigica', 'lóeigica', 'lófigica', 'lógigica', 'lóhigica', 'lóiigica', 'lójigica', 'lókigica', 'lóligica', 'lómigica', 'lónigica', 'lóoigica', 'lópigica', 'lóqigica', 'lórigica', 'lósigica', 'lótigica', 'lóuigica', 'lóvigica', 'lówigica', 'lóxigica', 'lóyigica', 'lózigica', 'lóàigica', 'lóáigica', 'lóâigica', 'lóãigica', 'lóèigica', 'lóéigica', 'lóêigica', 'lóìigica', 'lóíigica', 'lóîigica', 'lóòigica', 'lóóigica', 'lóôigica', 'lóõigica', 'lóùigica', 'lóúigica', 'lóûigica', 'lóçigica', 'lóiagica', 'lóibgica', 'lóicgica', 'lóidgica', 'lóiegica', 'lóifgica', 'lóiggica', 'lóihgica', 'lóiigica', 'lóijgica', 'lóikgica', 'lóilgica', 'lóimgica', 'lóingica', 'lóiogica', 'lóipgica', 'lóiqgica', 'lóirgica', 'lóisgica', 'lóitgica', 'lóiugica', 'lóivgica', 'lóiwgica', 'lóixgica', 'lóiygica', 'lóizgica', 'lóiàgica', 'lóiágica', 'lóiâgica', 'lóiãgica', 'lóiègica', 'lóiégica', 'lóiêgica', 'lóiìgica', 'lóiígica', 'lóiîgica', 'lóiògica', 'lóiógica', 'lóiôgica', 'lóiõgica', 'lóiùgica', 'lóiúgica', 'lóiûgica', 'lóiçgica', 'lóigaica', 'lóigbica', 'lóigcica', 'lóigdica', 'lóigeica', 'lóigfica', 'lóiggica', 'lóighica', 'lóigiica', 'lóigjica', 'lóigkica', 'lóiglica', 'lóigmica', 'lóignica', 'lóigoica', 'lóigpica', 'lóigqica', 'lóigrica', 'lóigsica', 'lóigtica', 'lóiguica', 'lóigvica', 'lóigwica', 'lóigxica', 'lóigyica', 'lóigzica', 'lóigàica', 'lóigáica', 'lóigâica', 'lóigãica', 'lóigèica', 'lóigéica', 'lóigêica', 'lóigìica', 'lóigíica', 'lóigîica', 'lóigòica', 'lóigóica', 'lóigôica', 'lóigõica', 'lóigùica', 'lóigúica', 'lóigûica', 'lóigçica', 'lóigiaca', 'lóigibca', 'lóigicca', 'lóigidca', 'lóigieca', 'lóigifca', 'lóigigca', 'lóigihca', 'lóigiica', 'lóigijca', 'lóigikca', 'lóigilca', 'lóigimca', 'lóiginca', 'lóigioca', 'lóigipca', 'lóigiqca', 'lóigirca', 'lóigisca', 'lóigitca', 'lóigiuca', 'lóigivca', 'lóigiwca', 'lóigixca', 'lóigiyca', 'lóigizca', 'lóigiàca', 'lóigiáca', 'lóigiâca', 'lóigiãca', 'lóigièca', 'lóigiéca', 'lóigiêca', 'lóigiìca', 'lóigiíca', 'lóigiîca', 'lóigiòca', 'lóigióca', 'lóigiôca', 'lóigiõca', 'lóigiùca', 'lóigiúca', 'lóigiûca', 'lóigiçca', 'lóigicaa', 'lóigicba', 'lóigicca', 'lóigicda', 'lóigicea', 'lóigicfa', 'lóigicga', 'lóigicha', 'lóigicia', 'lóigicja', 'lóigicka', 'lóigicla', 'lóigicma', 'lóigicna', 'lóigicoa', 'lóigicpa', 'lóigicqa', 'lóigicra', 'lóigicsa', 'lóigicta', 'lóigicua', 'lóigicva', 'lóigicwa', 'lóigicxa', 'lóigicya', 'lóigicza', 'lóigicàa', 'lóigicáa', 'lóigicâa', 'lóigicãa', 'lóigicèa', 'lóigicéa', 'lóigicêa', 'lóigicìa', 'lóigicía', 'lóigicîa', 'lóigicòa', 'lóigicóa', 'lóigicôa', 'lóigicõa', 'lóigicùa', 'lóigicúa', 'lóigicûa', 'lóigicça', 'lóigicaa', 'lóigicab', 'lóigicac', 'lóigicad', 'lóigicae', 'lóigicaf', 'lóigicag', 'lóigicah', 'lóigicai', 'lóigicaj', 'lóigicak', 'lóigical', 'lóigicam', 'lóigican', 'lóigicao', 'lóigicap', 'lóigicaq', 'lóigicar', 'lóigicas', 'lóigicat', 'lóigicau', 'lóigicav', 'lóigicaw', 'lóigicax', 'lóigicay', 'lóigicaz', 'lóigicaà', 'lóigicaá', 'lóigicaâ', 'lóigicaã', 'lóigicaè', 'lóigicaé', 'lóigicaê', 'lóigicaì', 'lóigicaí', 'lóigicaî', 'lóigicaò', 'lóigicaó', 'lóigicaô', 'lóigicaõ', 'lóigicaù', 'lóigicaú', 'lóigicaû', 'lóigicaç', 'óigica', 'ligica', 'lógica', 'lóiica', 'lóigca', 'lóigia', 'lóigic', 'lóigica']\n"
          ]
        }
      ]
    },
    {
      "cell_type": "code",
      "source": [
        "avaliador(lista_teste)"
      ],
      "metadata": {
        "colab": {
          "base_uri": "https://localhost:8080/"
        },
        "id": "kITxvIuk31an",
        "outputId": "24915d3b-2bd2-4b5d-e0e8-467296914569"
      },
      "execution_count": 67,
      "outputs": [
        {
          "output_type": "stream",
          "name": "stdout",
          "text": [
            "41.4% de 186 palavras\n"
          ]
        }
      ]
    },
    {
      "cell_type": "markdown",
      "source": [
        "# 3ª Solução do corretor - Alterando caracter errado na palavra *errada*"
      ],
      "metadata": {
        "id": "eAXy9iWahqYE"
      }
    },
    {
      "cell_type": "code",
      "source": [
        "# função para geração de novas palavras com as trocas de letras\n",
        "def troca_letra(fatias):\n",
        "    novas_palavras = []\n",
        "    letras = 'abcdefghijklmnopqrstuvwxyzáàãâéèêíìóòõôúùûç'\n",
        "    for E, D in fatias:\n",
        "        for letra in letras:\n",
        "            novas_palavras.append(E + letra + D[1:])\n",
        "    return novas_palavras"
      ],
      "metadata": {
        "id": "D69p4tfihpr8"
      },
      "execution_count": 68,
      "outputs": []
    },
    {
      "cell_type": "code",
      "source": [
        "# agrupando as soluções criadas no corretor\n",
        "def insere_letras(fatias):\n",
        "    novas_palavras = []\n",
        "    letras = 'abcdefghijklmnopqrstuvwxyzàáâãèéêìíîòóôõùúûç'\n",
        "    for E, D in fatias:\n",
        "        for letra in letras:\n",
        "            novas_palavras.append(E + letra + D)\n",
        "    return novas_palavras\n",
        "\n",
        "def deletando_caracteres(fatias):\n",
        "    novas_palavras = []\n",
        "    for E, D in fatias:\n",
        "        novas_palavras.append(E + D[1:])\n",
        "    return novas_palavras\n",
        "\n",
        "def troca_letra(fatias):\n",
        "    novas_palavras = []\n",
        "    letras = 'abcdefghijklmnopqrstuvwxyzáàãâéèêíìóòõôúùûç'\n",
        "    for E, D in fatias:\n",
        "        for letra in letras:\n",
        "            novas_palavras.append(E + letra + D[1:])\n",
        "    return novas_palavras\n",
        "\n",
        "def gerador_palavras(palavra):\n",
        "    fatias = []\n",
        "    for i in range(len(palavra)+1):\n",
        "        fatias.append((palavra[:i],palavra[i:]))\n",
        "    palavras_geradas = insere_letras(fatias)\n",
        "    palavras_geradas += deletando_caracteres(fatias)\n",
        "    palavras_geradas += troca_letra(fatias)\n",
        "    return palavras_geradas\n",
        "\n",
        "palavra_exemplo = \"lígica\"\n",
        "palavras_geradas = gerador_palavras(palavra_exemplo)\n",
        "print(palavras_geradas)"
      ],
      "metadata": {
        "colab": {
          "base_uri": "https://localhost:8080/"
        },
        "id": "2wOq6oKeh4eR",
        "outputId": "c316fdef-76dd-4f88-9a57-223548bcd729"
      },
      "execution_count": 69,
      "outputs": [
        {
          "output_type": "stream",
          "name": "stdout",
          "text": [
            "['alígica', 'blígica', 'clígica', 'dlígica', 'elígica', 'flígica', 'glígica', 'hlígica', 'ilígica', 'jlígica', 'klígica', 'llígica', 'mlígica', 'nlígica', 'olígica', 'plígica', 'qlígica', 'rlígica', 'slígica', 'tlígica', 'ulígica', 'vlígica', 'wlígica', 'xlígica', 'ylígica', 'zlígica', 'àlígica', 'álígica', 'âlígica', 'ãlígica', 'èlígica', 'élígica', 'êlígica', 'ìlígica', 'ílígica', 'îlígica', 'òlígica', 'ólígica', 'ôlígica', 'õlígica', 'ùlígica', 'úlígica', 'ûlígica', 'çlígica', 'laígica', 'lbígica', 'lcígica', 'ldígica', 'leígica', 'lfígica', 'lgígica', 'lhígica', 'liígica', 'ljígica', 'lkígica', 'llígica', 'lmígica', 'lnígica', 'loígica', 'lpígica', 'lqígica', 'lrígica', 'lsígica', 'ltígica', 'luígica', 'lvígica', 'lwígica', 'lxígica', 'lyígica', 'lzígica', 'làígica', 'láígica', 'lâígica', 'lãígica', 'lèígica', 'léígica', 'lêígica', 'lìígica', 'líígica', 'lîígica', 'lòígica', 'lóígica', 'lôígica', 'lõígica', 'lùígica', 'lúígica', 'lûígica', 'lçígica', 'líagica', 'líbgica', 'lícgica', 'lídgica', 'líegica', 'lífgica', 'líggica', 'líhgica', 'líigica', 'líjgica', 'líkgica', 'lílgica', 'límgica', 'língica', 'líogica', 'lípgica', 'líqgica', 'lírgica', 'lísgica', 'lítgica', 'líugica', 'lívgica', 'líwgica', 'líxgica', 'líygica', 'lízgica', 'líàgica', 'líágica', 'líâgica', 'líãgica', 'líègica', 'líégica', 'líêgica', 'líìgica', 'líígica', 'líîgica', 'líògica', 'líógica', 'líôgica', 'líõgica', 'líùgica', 'líúgica', 'líûgica', 'líçgica', 'lígaica', 'lígbica', 'lígcica', 'lígdica', 'lígeica', 'lígfica', 'líggica', 'líghica', 'lígiica', 'lígjica', 'lígkica', 'líglica', 'lígmica', 'lígnica', 'lígoica', 'lígpica', 'lígqica', 'lígrica', 'lígsica', 'lígtica', 'líguica', 'lígvica', 'lígwica', 'lígxica', 'lígyica', 'lígzica', 'lígàica', 'lígáica', 'lígâica', 'lígãica', 'lígèica', 'lígéica', 'lígêica', 'lígìica', 'lígíica', 'lígîica', 'lígòica', 'lígóica', 'lígôica', 'lígõica', 'lígùica', 'lígúica', 'lígûica', 'lígçica', 'lígiaca', 'lígibca', 'lígicca', 'lígidca', 'lígieca', 'lígifca', 'lígigca', 'lígihca', 'lígiica', 'lígijca', 'lígikca', 'lígilca', 'lígimca', 'líginca', 'lígioca', 'lígipca', 'lígiqca', 'lígirca', 'lígisca', 'lígitca', 'lígiuca', 'lígivca', 'lígiwca', 'lígixca', 'lígiyca', 'lígizca', 'lígiàca', 'lígiáca', 'lígiâca', 'lígiãca', 'lígièca', 'lígiéca', 'lígiêca', 'lígiìca', 'lígiíca', 'lígiîca', 'lígiòca', 'lígióca', 'lígiôca', 'lígiõca', 'lígiùca', 'lígiúca', 'lígiûca', 'lígiçca', 'lígicaa', 'lígicba', 'lígicca', 'lígicda', 'lígicea', 'lígicfa', 'lígicga', 'lígicha', 'lígicia', 'lígicja', 'lígicka', 'lígicla', 'lígicma', 'lígicna', 'lígicoa', 'lígicpa', 'lígicqa', 'lígicra', 'lígicsa', 'lígicta', 'lígicua', 'lígicva', 'lígicwa', 'lígicxa', 'lígicya', 'lígicza', 'lígicàa', 'lígicáa', 'lígicâa', 'lígicãa', 'lígicèa', 'lígicéa', 'lígicêa', 'lígicìa', 'lígicía', 'lígicîa', 'lígicòa', 'lígicóa', 'lígicôa', 'lígicõa', 'lígicùa', 'lígicúa', 'lígicûa', 'lígicça', 'lígicaa', 'lígicab', 'lígicac', 'lígicad', 'lígicae', 'lígicaf', 'lígicag', 'lígicah', 'lígicai', 'lígicaj', 'lígicak', 'lígical', 'lígicam', 'lígican', 'lígicao', 'lígicap', 'lígicaq', 'lígicar', 'lígicas', 'lígicat', 'lígicau', 'lígicav', 'lígicaw', 'lígicax', 'lígicay', 'lígicaz', 'lígicaà', 'lígicaá', 'lígicaâ', 'lígicaã', 'lígicaè', 'lígicaé', 'lígicaê', 'lígicaì', 'lígicaí', 'lígicaî', 'lígicaò', 'lígicaó', 'lígicaô', 'lígicaõ', 'lígicaù', 'lígicaú', 'lígicaû', 'lígicaç', 'ígica', 'lgica', 'líica', 'lígca', 'lígia', 'lígic', 'lígica', 'aígica', 'bígica', 'cígica', 'dígica', 'eígica', 'fígica', 'gígica', 'hígica', 'iígica', 'jígica', 'kígica', 'lígica', 'mígica', 'nígica', 'oígica', 'pígica', 'qígica', 'rígica', 'sígica', 'tígica', 'uígica', 'vígica', 'wígica', 'xígica', 'yígica', 'zígica', 'áígica', 'àígica', 'ãígica', 'âígica', 'éígica', 'èígica', 'êígica', 'íígica', 'ìígica', 'óígica', 'òígica', 'õígica', 'ôígica', 'úígica', 'ùígica', 'ûígica', 'çígica', 'lagica', 'lbgica', 'lcgica', 'ldgica', 'legica', 'lfgica', 'lggica', 'lhgica', 'ligica', 'ljgica', 'lkgica', 'llgica', 'lmgica', 'lngica', 'logica', 'lpgica', 'lqgica', 'lrgica', 'lsgica', 'ltgica', 'lugica', 'lvgica', 'lwgica', 'lxgica', 'lygica', 'lzgica', 'lágica', 'làgica', 'lãgica', 'lâgica', 'légica', 'lègica', 'lêgica', 'lígica', 'lìgica', 'lógica', 'lògica', 'lõgica', 'lôgica', 'lúgica', 'lùgica', 'lûgica', 'lçgica', 'líaica', 'líbica', 'lícica', 'lídica', 'líeica', 'lífica', 'lígica', 'líhica', 'líiica', 'líjica', 'líkica', 'lílica', 'límica', 'línica', 'líoica', 'lípica', 'líqica', 'lírica', 'lísica', 'lítica', 'líuica', 'lívica', 'líwica', 'líxica', 'líyica', 'lízica', 'líáica', 'líàica', 'líãica', 'líâica', 'líéica', 'líèica', 'líêica', 'lííica', 'líìica', 'líóica', 'líòica', 'líõica', 'líôica', 'líúica', 'líùica', 'líûica', 'líçica', 'lígaca', 'lígbca', 'lígcca', 'lígdca', 'lígeca', 'lígfca', 'líggca', 'líghca', 'lígica', 'lígjca', 'lígkca', 'líglca', 'lígmca', 'lígnca', 'lígoca', 'lígpca', 'lígqca', 'lígrca', 'lígsca', 'lígtca', 'líguca', 'lígvca', 'lígwca', 'lígxca', 'lígyca', 'lígzca', 'lígáca', 'lígàca', 'lígãca', 'lígâca', 'lígéca', 'lígèca', 'lígêca', 'lígíca', 'lígìca', 'lígóca', 'lígòca', 'lígõca', 'lígôca', 'lígúca', 'lígùca', 'lígûca', 'lígçca', 'lígiaa', 'lígiba', 'lígica', 'lígida', 'lígiea', 'lígifa', 'lígiga', 'lígiha', 'lígiia', 'lígija', 'lígika', 'lígila', 'lígima', 'lígina', 'lígioa', 'lígipa', 'lígiqa', 'lígira', 'lígisa', 'lígita', 'lígiua', 'lígiva', 'lígiwa', 'lígixa', 'lígiya', 'lígiza', 'lígiáa', 'lígiàa', 'lígiãa', 'lígiâa', 'lígiéa', 'lígièa', 'lígiêa', 'lígiía', 'lígiìa', 'lígióa', 'lígiòa', 'lígiõa', 'lígiôa', 'lígiúa', 'lígiùa', 'lígiûa', 'lígiça', 'lígica', 'lígicb', 'lígicc', 'lígicd', 'lígice', 'lígicf', 'lígicg', 'lígich', 'lígici', 'lígicj', 'lígick', 'lígicl', 'lígicm', 'lígicn', 'lígico', 'lígicp', 'lígicq', 'lígicr', 'lígics', 'lígict', 'lígicu', 'lígicv', 'lígicw', 'lígicx', 'lígicy', 'lígicz', 'lígicá', 'lígicà', 'lígicã', 'lígicâ', 'lígicé', 'lígicè', 'lígicê', 'lígicí', 'lígicì', 'lígicó', 'lígicò', 'lígicõ', 'lígicô', 'lígicú', 'lígicù', 'lígicû', 'lígicç', 'lígicaa', 'lígicab', 'lígicac', 'lígicad', 'lígicae', 'lígicaf', 'lígicag', 'lígicah', 'lígicai', 'lígicaj', 'lígicak', 'lígical', 'lígicam', 'lígican', 'lígicao', 'lígicap', 'lígicaq', 'lígicar', 'lígicas', 'lígicat', 'lígicau', 'lígicav', 'lígicaw', 'lígicax', 'lígicay', 'lígicaz', 'lígicaá', 'lígicaà', 'lígicaã', 'lígicaâ', 'lígicaé', 'lígicaè', 'lígicaê', 'lígicaí', 'lígicaì', 'lígicaó', 'lígicaò', 'lígicaõ', 'lígicaô', 'lígicaú', 'lígicaù', 'lígicaû', 'lígicaç']\n"
          ]
        }
      ]
    },
    {
      "cell_type": "markdown",
      "source": [
        "# 4ª Solução do corretor - Invertendo caracteres na palavra *errada*"
      ],
      "metadata": {
        "id": "94f8SNTGkvjw"
      }
    },
    {
      "cell_type": "code",
      "source": [
        "def insere_letras(fatias):\n",
        "    novas_palavras = []\n",
        "    letras = 'abcdefghijklmnopqrstuvwxyzàáâãèéêìíîòóôõùúûç'\n",
        "    for E, D in fatias:\n",
        "        for letra in letras:\n",
        "            novas_palavras.append(E + letra + D)\n",
        "    return novas_palavras\n",
        "\n",
        "def deletando_caracteres(fatias):\n",
        "    novas_palavras = []\n",
        "    for E, D in fatias:\n",
        "        novas_palavras.append(E + D[1:])\n",
        "    return novas_palavras\n",
        "\n",
        "def troca_letra(fatias):\n",
        "    novas_palavras = []\n",
        "    letras = 'abcdefghijklmnopqrstuvwxyzáàãâéèêíìóòõôúùûç'\n",
        "    for E, D in fatias:\n",
        "        for letra in letras:\n",
        "            novas_palavras.append(E + letra + D[1:])\n",
        "    return novas_palavras\n",
        "\n",
        "# implementando com a função inverte letra\n",
        "def inverte_letra(fatias):\n",
        "    novas_palavras = []\n",
        "    for E, D in fatias:\n",
        "        if len(D) > 1:\n",
        "            novas_palavras.append(E + D[1] + D[0] + D[2:])\n",
        "    return novas_palavras\n",
        "\n",
        "def gerador_palavras(palavra):\n",
        "    fatias = []\n",
        "    for i in range(len(palavra)+1):\n",
        "        fatias.append((palavra[:i],palavra[i:]))\n",
        "    palavras_geradas = insere_letras(fatias)\n",
        "    palavras_geradas += deletando_caracteres(fatias)\n",
        "    palavras_geradas += troca_letra(fatias)\n",
        "    palavras_geradas += inverte_letra(fatias)\n",
        "    return palavras_geradas\n",
        "\n",
        "palavra_exemplo = \"lgóica\"\n",
        "palavras_geradas = gerador_palavras(palavra_exemplo)\n",
        "print(palavras_geradas)"
      ],
      "metadata": {
        "colab": {
          "base_uri": "https://localhost:8080/"
        },
        "id": "c-eytSzEkvPQ",
        "outputId": "ab3db07b-d7a4-4f4d-b444-648b12892ea3"
      },
      "execution_count": 70,
      "outputs": [
        {
          "output_type": "stream",
          "name": "stdout",
          "text": [
            "['algóica', 'blgóica', 'clgóica', 'dlgóica', 'elgóica', 'flgóica', 'glgóica', 'hlgóica', 'ilgóica', 'jlgóica', 'klgóica', 'llgóica', 'mlgóica', 'nlgóica', 'olgóica', 'plgóica', 'qlgóica', 'rlgóica', 'slgóica', 'tlgóica', 'ulgóica', 'vlgóica', 'wlgóica', 'xlgóica', 'ylgóica', 'zlgóica', 'àlgóica', 'álgóica', 'âlgóica', 'ãlgóica', 'èlgóica', 'élgóica', 'êlgóica', 'ìlgóica', 'ílgóica', 'îlgóica', 'òlgóica', 'ólgóica', 'ôlgóica', 'õlgóica', 'ùlgóica', 'úlgóica', 'ûlgóica', 'çlgóica', 'lagóica', 'lbgóica', 'lcgóica', 'ldgóica', 'legóica', 'lfgóica', 'lggóica', 'lhgóica', 'ligóica', 'ljgóica', 'lkgóica', 'llgóica', 'lmgóica', 'lngóica', 'logóica', 'lpgóica', 'lqgóica', 'lrgóica', 'lsgóica', 'ltgóica', 'lugóica', 'lvgóica', 'lwgóica', 'lxgóica', 'lygóica', 'lzgóica', 'làgóica', 'lágóica', 'lâgóica', 'lãgóica', 'lègóica', 'légóica', 'lêgóica', 'lìgóica', 'lígóica', 'lîgóica', 'lògóica', 'lógóica', 'lôgóica', 'lõgóica', 'lùgóica', 'lúgóica', 'lûgóica', 'lçgóica', 'lgaóica', 'lgbóica', 'lgcóica', 'lgdóica', 'lgeóica', 'lgfóica', 'lggóica', 'lghóica', 'lgióica', 'lgjóica', 'lgkóica', 'lglóica', 'lgmóica', 'lgnóica', 'lgoóica', 'lgpóica', 'lgqóica', 'lgróica', 'lgsóica', 'lgtóica', 'lguóica', 'lgvóica', 'lgwóica', 'lgxóica', 'lgyóica', 'lgzóica', 'lgàóica', 'lgáóica', 'lgâóica', 'lgãóica', 'lgèóica', 'lgéóica', 'lgêóica', 'lgìóica', 'lgíóica', 'lgîóica', 'lgòóica', 'lgóóica', 'lgôóica', 'lgõóica', 'lgùóica', 'lgúóica', 'lgûóica', 'lgçóica', 'lgóaica', 'lgóbica', 'lgócica', 'lgódica', 'lgóeica', 'lgófica', 'lgógica', 'lgóhica', 'lgóiica', 'lgójica', 'lgókica', 'lgólica', 'lgómica', 'lgónica', 'lgóoica', 'lgópica', 'lgóqica', 'lgórica', 'lgósica', 'lgótica', 'lgóuica', 'lgóvica', 'lgówica', 'lgóxica', 'lgóyica', 'lgózica', 'lgóàica', 'lgóáica', 'lgóâica', 'lgóãica', 'lgóèica', 'lgóéica', 'lgóêica', 'lgóìica', 'lgóíica', 'lgóîica', 'lgóòica', 'lgóóica', 'lgóôica', 'lgóõica', 'lgóùica', 'lgóúica', 'lgóûica', 'lgóçica', 'lgóiaca', 'lgóibca', 'lgóicca', 'lgóidca', 'lgóieca', 'lgóifca', 'lgóigca', 'lgóihca', 'lgóiica', 'lgóijca', 'lgóikca', 'lgóilca', 'lgóimca', 'lgóinca', 'lgóioca', 'lgóipca', 'lgóiqca', 'lgóirca', 'lgóisca', 'lgóitca', 'lgóiuca', 'lgóivca', 'lgóiwca', 'lgóixca', 'lgóiyca', 'lgóizca', 'lgóiàca', 'lgóiáca', 'lgóiâca', 'lgóiãca', 'lgóièca', 'lgóiéca', 'lgóiêca', 'lgóiìca', 'lgóiíca', 'lgóiîca', 'lgóiòca', 'lgóióca', 'lgóiôca', 'lgóiõca', 'lgóiùca', 'lgóiúca', 'lgóiûca', 'lgóiçca', 'lgóicaa', 'lgóicba', 'lgóicca', 'lgóicda', 'lgóicea', 'lgóicfa', 'lgóicga', 'lgóicha', 'lgóicia', 'lgóicja', 'lgóicka', 'lgóicla', 'lgóicma', 'lgóicna', 'lgóicoa', 'lgóicpa', 'lgóicqa', 'lgóicra', 'lgóicsa', 'lgóicta', 'lgóicua', 'lgóicva', 'lgóicwa', 'lgóicxa', 'lgóicya', 'lgóicza', 'lgóicàa', 'lgóicáa', 'lgóicâa', 'lgóicãa', 'lgóicèa', 'lgóicéa', 'lgóicêa', 'lgóicìa', 'lgóicía', 'lgóicîa', 'lgóicòa', 'lgóicóa', 'lgóicôa', 'lgóicõa', 'lgóicùa', 'lgóicúa', 'lgóicûa', 'lgóicça', 'lgóicaa', 'lgóicab', 'lgóicac', 'lgóicad', 'lgóicae', 'lgóicaf', 'lgóicag', 'lgóicah', 'lgóicai', 'lgóicaj', 'lgóicak', 'lgóical', 'lgóicam', 'lgóican', 'lgóicao', 'lgóicap', 'lgóicaq', 'lgóicar', 'lgóicas', 'lgóicat', 'lgóicau', 'lgóicav', 'lgóicaw', 'lgóicax', 'lgóicay', 'lgóicaz', 'lgóicaà', 'lgóicaá', 'lgóicaâ', 'lgóicaã', 'lgóicaè', 'lgóicaé', 'lgóicaê', 'lgóicaì', 'lgóicaí', 'lgóicaî', 'lgóicaò', 'lgóicaó', 'lgóicaô', 'lgóicaõ', 'lgóicaù', 'lgóicaú', 'lgóicaû', 'lgóicaç', 'góica', 'lóica', 'lgica', 'lgóca', 'lgóia', 'lgóic', 'lgóica', 'agóica', 'bgóica', 'cgóica', 'dgóica', 'egóica', 'fgóica', 'ggóica', 'hgóica', 'igóica', 'jgóica', 'kgóica', 'lgóica', 'mgóica', 'ngóica', 'ogóica', 'pgóica', 'qgóica', 'rgóica', 'sgóica', 'tgóica', 'ugóica', 'vgóica', 'wgóica', 'xgóica', 'ygóica', 'zgóica', 'ágóica', 'àgóica', 'ãgóica', 'âgóica', 'égóica', 'ègóica', 'êgóica', 'ígóica', 'ìgóica', 'ógóica', 'ògóica', 'õgóica', 'ôgóica', 'úgóica', 'ùgóica', 'ûgóica', 'çgóica', 'laóica', 'lbóica', 'lcóica', 'ldóica', 'leóica', 'lfóica', 'lgóica', 'lhóica', 'lióica', 'ljóica', 'lkóica', 'llóica', 'lmóica', 'lnóica', 'loóica', 'lpóica', 'lqóica', 'lróica', 'lsóica', 'ltóica', 'luóica', 'lvóica', 'lwóica', 'lxóica', 'lyóica', 'lzóica', 'láóica', 'làóica', 'lãóica', 'lâóica', 'léóica', 'lèóica', 'lêóica', 'líóica', 'lìóica', 'lóóica', 'lòóica', 'lõóica', 'lôóica', 'lúóica', 'lùóica', 'lûóica', 'lçóica', 'lgaica', 'lgbica', 'lgcica', 'lgdica', 'lgeica', 'lgfica', 'lggica', 'lghica', 'lgiica', 'lgjica', 'lgkica', 'lglica', 'lgmica', 'lgnica', 'lgoica', 'lgpica', 'lgqica', 'lgrica', 'lgsica', 'lgtica', 'lguica', 'lgvica', 'lgwica', 'lgxica', 'lgyica', 'lgzica', 'lgáica', 'lgàica', 'lgãica', 'lgâica', 'lgéica', 'lgèica', 'lgêica', 'lgíica', 'lgìica', 'lgóica', 'lgòica', 'lgõica', 'lgôica', 'lgúica', 'lgùica', 'lgûica', 'lgçica', 'lgóaca', 'lgóbca', 'lgócca', 'lgódca', 'lgóeca', 'lgófca', 'lgógca', 'lgóhca', 'lgóica', 'lgójca', 'lgókca', 'lgólca', 'lgómca', 'lgónca', 'lgóoca', 'lgópca', 'lgóqca', 'lgórca', 'lgósca', 'lgótca', 'lgóuca', 'lgóvca', 'lgówca', 'lgóxca', 'lgóyca', 'lgózca', 'lgóáca', 'lgóàca', 'lgóãca', 'lgóâca', 'lgóéca', 'lgóèca', 'lgóêca', 'lgóíca', 'lgóìca', 'lgóóca', 'lgóòca', 'lgóõca', 'lgóôca', 'lgóúca', 'lgóùca', 'lgóûca', 'lgóçca', 'lgóiaa', 'lgóiba', 'lgóica', 'lgóida', 'lgóiea', 'lgóifa', 'lgóiga', 'lgóiha', 'lgóiia', 'lgóija', 'lgóika', 'lgóila', 'lgóima', 'lgóina', 'lgóioa', 'lgóipa', 'lgóiqa', 'lgóira', 'lgóisa', 'lgóita', 'lgóiua', 'lgóiva', 'lgóiwa', 'lgóixa', 'lgóiya', 'lgóiza', 'lgóiáa', 'lgóiàa', 'lgóiãa', 'lgóiâa', 'lgóiéa', 'lgóièa', 'lgóiêa', 'lgóiía', 'lgóiìa', 'lgóióa', 'lgóiòa', 'lgóiõa', 'lgóiôa', 'lgóiúa', 'lgóiùa', 'lgóiûa', 'lgóiça', 'lgóica', 'lgóicb', 'lgóicc', 'lgóicd', 'lgóice', 'lgóicf', 'lgóicg', 'lgóich', 'lgóici', 'lgóicj', 'lgóick', 'lgóicl', 'lgóicm', 'lgóicn', 'lgóico', 'lgóicp', 'lgóicq', 'lgóicr', 'lgóics', 'lgóict', 'lgóicu', 'lgóicv', 'lgóicw', 'lgóicx', 'lgóicy', 'lgóicz', 'lgóicá', 'lgóicà', 'lgóicã', 'lgóicâ', 'lgóicé', 'lgóicè', 'lgóicê', 'lgóicí', 'lgóicì', 'lgóicó', 'lgóicò', 'lgóicõ', 'lgóicô', 'lgóicú', 'lgóicù', 'lgóicû', 'lgóicç', 'lgóicaa', 'lgóicab', 'lgóicac', 'lgóicad', 'lgóicae', 'lgóicaf', 'lgóicag', 'lgóicah', 'lgóicai', 'lgóicaj', 'lgóicak', 'lgóical', 'lgóicam', 'lgóican', 'lgóicao', 'lgóicap', 'lgóicaq', 'lgóicar', 'lgóicas', 'lgóicat', 'lgóicau', 'lgóicav', 'lgóicaw', 'lgóicax', 'lgóicay', 'lgóicaz', 'lgóicaá', 'lgóicaà', 'lgóicaã', 'lgóicaâ', 'lgóicaé', 'lgóicaè', 'lgóicaê', 'lgóicaí', 'lgóicaì', 'lgóicaó', 'lgóicaò', 'lgóicaõ', 'lgóicaô', 'lgóicaú', 'lgóicaù', 'lgóicaû', 'lgóicaç', 'glóica', 'lógica', 'lgióca', 'lgócia', 'lgóiac']\n"
          ]
        }
      ]
    },
    {
      "cell_type": "code",
      "source": [
        "avaliador(lista_teste)"
      ],
      "metadata": {
        "colab": {
          "base_uri": "https://localhost:8080/"
        },
        "id": "tZTyRbY3lOTe",
        "outputId": "3a460b91-4a2a-4ef3-ad92-6e3c884a3dc9"
      },
      "execution_count": 71,
      "outputs": [
        {
          "output_type": "stream",
          "name": "stdout",
          "text": [
            "76.34% de 186 palavras\n"
          ]
        }
      ]
    },
    {
      "cell_type": "markdown",
      "source": [
        "# Calculando a taxa de palavras desconhecidas pelo corretor"
      ],
      "metadata": {
        "id": "XEvcr-9MmoFQ"
      }
    },
    {
      "cell_type": "code",
      "source": [
        "def avaliador(testes, vocabulario):\n",
        "    numero_palavras = len(testes)\n",
        "    acertou = 0\n",
        "    desconhecida = 0\n",
        "    for correta, errada in testes:\n",
        "        palavra_corrigida = corretor(errada)\n",
        "        if palavra_corrigida == correta:\n",
        "            acertou += 1\n",
        "        else:\n",
        "            desconhecida += (correta not in vocabulario)\n",
        "    taxa_acerto = round(acertou*100/numero_palavras, 2)\n",
        "    taxa_desconhecida = round(desconhecida*100/numero_palavras, 2)\n",
        "    print(f\"{taxa_acerto}% de {numero_palavras} palavras, desconhecidas é {taxa_desconhecida}%\")\n",
        "\n",
        "\n",
        "vocabulario = set(lista_normalizada)\n",
        "avaliador(lista_teste, vocabulario)"
      ],
      "metadata": {
        "colab": {
          "base_uri": "https://localhost:8080/"
        },
        "id": "QDajWuF9lpZW",
        "outputId": "5e9f4b5f-24c6-47be-b6dc-56b02feaa509"
      },
      "execution_count": 72,
      "outputs": [
        {
          "output_type": "stream",
          "name": "stdout",
          "text": [
            "76.34% de 186 palavras, desconhecidas é 6.99%\n"
          ]
        }
      ]
    },
    {
      "cell_type": "markdown",
      "source": [
        "# 5ª Solução do corretor - Implementando a verificação em loop para corrigir dois erros na palavra *errada*"
      ],
      "metadata": {
        "id": "UrK6An-EornP"
      }
    },
    {
      "cell_type": "code",
      "source": [
        "# simulando a palavra lógica digitada com dois erros, implementando um for que cria novas palavras a partir das primeiras palavras criadas, conseguimos montar uma lista com a palavra correta\n",
        "palavra = \"lóiigica\"\n",
        "\n",
        "def gerador_turbinado(palavras_geradas):\n",
        "    novas_palavras = []\n",
        "    for palavra in palavras_geradas:\n",
        "        novas_palavras += gerador_palavras(palavra)\n",
        "    return novas_palavras\n",
        "\n",
        "palavras_g = gerador_turbinado(gerador_palavras(palavra))\n",
        "\"lógica\" in palavras_g"
      ],
      "metadata": {
        "colab": {
          "base_uri": "https://localhost:8080/"
        },
        "id": "2T85dqonm410",
        "outputId": "74d850f6-9a07-4e47-a8c1-bee8ecf2f90a"
      },
      "execution_count": 73,
      "outputs": [
        {
          "output_type": "execute_result",
          "data": {
            "text/plain": [
              "True"
            ]
          },
          "metadata": {},
          "execution_count": 73
        }
      ]
    },
    {
      "cell_type": "code",
      "source": [
        "# no entanto temos um volume significativo de palavras o que pode pesar o corretor a encontrar a palavra correta de forma otimizada\n",
        "len(palavras_g)"
      ],
      "metadata": {
        "colab": {
          "base_uri": "https://localhost:8080/"
        },
        "id": "srnZ67bEoNU4",
        "outputId": "39e9af2a-e65a-46ef-823f-1ff27e7fab71"
      },
      "execution_count": 74,
      "outputs": [
        {
          "output_type": "execute_result",
          "data": {
            "text/plain": [
              "676760"
            ]
          },
          "metadata": {},
          "execution_count": 74
        }
      ]
    },
    {
      "cell_type": "code",
      "source": [
        "# otimizando a função corretor diminuindo o número de palavras possíveis para verificação\n",
        "def novo_corretor(palavra):\n",
        "    palavras_geradas = gerador_palavras(palavra)\n",
        "    palavras_turbinado = gerador_turbinado(palavras_geradas)\n",
        "    todas_palavras = set(palavras_geradas + palavras_turbinado)\n",
        "    candidatos = [palavra]\n",
        "    for palavra in todas_palavras:\n",
        "        if palavra in vocabulario:\n",
        "            candidatos.append(palavra)\n",
        "    palavra_correta = max(candidatos, key=probabilidade)\n",
        "    return palavra_correta\n",
        "\n",
        "novo_corretor(palavra)"
      ],
      "metadata": {
        "colab": {
          "base_uri": "https://localhost:8080/",
          "height": 35
        },
        "id": "EWDa1oq4oOtc",
        "outputId": "6f9bdf7e-ce3d-409e-b712-02d215d1159a"
      },
      "execution_count": 77,
      "outputs": [
        {
          "output_type": "execute_result",
          "data": {
            "text/plain": [
              "'lógica'"
            ],
            "application/vnd.google.colaboratory.intrinsic+json": {
              "type": "string"
            }
          },
          "metadata": {},
          "execution_count": 77
        }
      ]
    },
    {
      "cell_type": "code",
      "source": [
        "def avaliador(testes, vocabulario):\n",
        "    numero_palavras = len(testes)\n",
        "    acertou = 0\n",
        "    desconhecida = 0\n",
        "    for correta, errada in testes:\n",
        "        palavra_corrigida = novo_corretor(errada)\n",
        "        if palavra_corrigida == correta:\n",
        "            acertou += 1\n",
        "        else:\n",
        "            desconhecida += (correta not in vocabulario)\n",
        "    taxa_acerto = round(acertou*100/numero_palavras, 2)\n",
        "    taxa_desconhecida = round(desconhecida*100/numero_palavras, 2)\n",
        "    print(f\"{taxa_acerto}% de {numero_palavras} palavras, desconhecidas {taxa_desconhecida}%\")\n",
        "\n",
        "vocabulario = set(lista_normalizada)\n",
        "avaliador(lista_teste, vocabulario)"
      ],
      "metadata": {
        "colab": {
          "base_uri": "https://localhost:8080/"
        },
        "id": "ws1rHaJNp47a",
        "outputId": "4e6e5b1a-54ce-44f3-9e21-8ab1e23e1860"
      },
      "execution_count": 78,
      "outputs": [
        {
          "output_type": "stream",
          "name": "stdout",
          "text": [
            "55.91% de 186 palavras, desconhecidas 6.45%\n"
          ]
        }
      ]
    },
    {
      "cell_type": "code",
      "source": [
        "# avaliando a implementação do novo corretor tivemos uma redução na taxa de palavras corrigidas\n",
        "def avaliador(testes, vocabulario):\n",
        "    numero_palavras = len(testes)\n",
        "    acertou = 0\n",
        "    desconhecida = 0\n",
        "    for correta, errada in testes:\n",
        "        palavra_corrigida = novo_corretor(errada)\n",
        "        desconhecida += (correta not in vocabulario)\n",
        "        if palavra_corrigida == correta:\n",
        "            acertou += 1\n",
        "    taxa_acerto = round(acertou*100/numero_palavras, 2)\n",
        "    taxa_desconhecida = round(desconhecida*100/numero_palavras, 2)\n",
        "    print(f\"{taxa_acerto}% de {numero_palavras} palavras, desconhecidas {taxa_desconhecida}%\")\n",
        "\n",
        "vocabulario = set(lista_normalizada)\n",
        "avaliador(lista_teste, vocabulario)"
      ],
      "metadata": {
        "colab": {
          "base_uri": "https://localhost:8080/"
        },
        "id": "mOLs1leArNJ8",
        "outputId": "5c6a916a-6c2c-49a3-efcc-966c55069931"
      },
      "execution_count": 79,
      "outputs": [
        {
          "output_type": "stream",
          "name": "stdout",
          "text": [
            "55.91% de 186 palavras, desconhecidas 6.99%\n"
          ]
        }
      ]
    },
    {
      "cell_type": "markdown",
      "source": [
        "# Avaliando"
      ],
      "metadata": {
        "id": "23ckPjfys2yc"
      }
    },
    {
      "cell_type": "code",
      "source": [
        "# avaliando as palavras geradas identificamos que na maioria das vezes o erro de digitação está em sua maioria a uma distância de ser corrigido, por este motivo ao gerarmos duas correções geramos palavras diferentes das corretas\n",
        "def avaliador(testes, vocabulario):\n",
        "    numero_palavras = len(testes)\n",
        "    acertou = 0\n",
        "    desconhecida = 0\n",
        "    for correta, errada in testes:\n",
        "        palavra_corrigida = novo_corretor(errada)\n",
        "        desconhecida += (correta not in vocabulario)\n",
        "        if palavra_corrigida == correta:\n",
        "            acertou += 1\n",
        "        else:\n",
        "            print(errada + \"-\" + corretor(errada) + \"-\" + palavra_corrigida)\n",
        "    taxa_acerto = round(acertou*100/numero_palavras, 2)\n",
        "    taxa_desconhecida = round(desconhecida*100/numero_palavras, 2)\n",
        "    print(f\"{taxa_acerto}% de {numero_palavras} palavras, desconhecidas {taxa_desconhecida}%\")\n",
        "\n",
        "vocabulario = set(lista_normalizada)\n",
        "avaliador(lista_teste, vocabulario)"
      ],
      "metadata": {
        "colab": {
          "base_uri": "https://localhost:8080/"
        },
        "id": "ZibOYmWBse4k",
        "outputId": "57c3fb79-2831-49e8-8693-9e24011f6c73"
      },
      "execution_count": 80,
      "outputs": [
        {
          "output_type": "stream",
          "name": "stdout",
          "text": [
            "esje-esse-se\n",
            "sãêo-são-não\n",
            "dosa-dos-do\n",
            "eme-em-de\n",
            "eàssa-essa-esse\n",
            "daõs-das-da\n",
            "céda-cada-da\n",
            "noâ-no-o\n",
            "enêão-então-não\n",
            "tĩem-tem-em\n",
            "nossah-nossa-nosso\n",
            "teb-tem-de\n",
            "atĩ-até-a\n",
            "âem-em-de\n",
            "foo-foi-o\n",
            "serr-ser-se\n",
            "entke-entre-então\n",
            "van-vai-a\n",
            "çeus-seus-seu\n",
            "eû-e-de\n",
            "temeo-tempo-temos\n",
            "semre-sempre-ser\n",
            "elaá-ela-ele\n",
            "síó-só-se\n",
            "siàe-site-se\n",
            "seém-sem-em\n",
            "peln-pelo-ele\n",
            "aléra-alura-agora\n",
            "tdia-dia-da\n",
            "jé-é-de\n",
            "sãô-são-não\n",
            "odos-dos-do\n",
            "siua-sua-seu\n",
            "elpe-ele-esse\n",
            "teos-temos-os\n",
            "eũsa-essa-esse\n",
            "vjmos-vamos-temos\n",
            "dms-dos-de\n",
            "cava-java-para\n",
            "ános-nos-no\n",
            "èaso-caso-as\n",
            "túem-tem-em\n",
            "daáos-dados-dos\n",
            "nossk-nosso-nosso\n",
            "tãer-ter-ser\n",
            "vté-até-é\n",
            "búm-bem-um\n",
            "sçerá-será-ser\n",
            "entró-entre-então\n",
            "uai-vai-a\n",
            "sâus-seus-seu\n",
            "ìeu-seu-de\n",
            "fual-qual-sua\n",
            "elal-ela-ele\n",
            "skó-só-se\n",
            "secm-sem-em\n",
            "aluéa-alura-além\n",
            "dil-dia-de\n",
            "sód-só-se\n",
            "eúaa-aeúaa-essa\n",
            "ró-só-de\n",
            "dĩaz-adĩaz-da\n",
            "correptor-corretor-correto\n",
            "trtica-tática-prática\n",
            "ewpoderamento-aewpoderamento-ewpoderamento\n",
            "îgato-gato-fato\n",
            "cakvalo-acakvalo-carvalho\n",
            "canelac-acanelac-janela\n",
            "tênisy-atênisy-tênisy\n",
            "anciosa-aanciosa-ansioso\n",
            "ancciosa-aancciosa-ancciosa\n",
            "ansioa-aansioa-ensina\n",
            "asterístico-aasterístico-asterístico\n",
            "entertido-aentertido-entendido\n",
            "ritimo-ritmo-ótimo\n",
            "indiota-aindiota-indica\n",
            "tomare-tomar-tomar\n",
            "seje-seja-se\n",
            "provalecer-aprovalecer-prevalece\n",
            "esteje-esteja-este\n",
            "mindigo-amindigo-indico\n",
            "pertubar-apertubar-derrubar\n",
            "55.91% de 186 palavras, desconhecidas 6.99%\n"
          ]
        }
      ]
    },
    {
      "cell_type": "code",
      "source": [
        "# concluímos que a primeira versão do corretor é mais acertiva ao determinar a palavra errada digitada\n",
        "def avaliador(testes, vocabulario):\n",
        "    numero_palavras = len(testes)\n",
        "    acertou = 0\n",
        "    desconhecida = 0\n",
        "    for correta, errada in testes:\n",
        "        palavra_corrigida = corretor(errada)\n",
        "        desconhecida += (correta not in vocabulario)\n",
        "        if palavra_corrigida == correta:\n",
        "            acertou += 1\n",
        "    taxa_acerto = round(acertou*100/numero_palavras, 2)\n",
        "    taxa_desconhecida = round(desconhecida*100/numero_palavras, 2)\n",
        "    print(f\"{taxa_acerto}% de {numero_palavras} palavras, desconhecidas {taxa_desconhecida}%\")\n",
        "\n",
        "vocabulario = set(lista_normalizada)\n",
        "avaliador(lista_teste, vocabulario)"
      ],
      "metadata": {
        "colab": {
          "base_uri": "https://localhost:8080/"
        },
        "id": "ynVtKStPtJAg",
        "outputId": "8034b316-0d42-40b0-e636-fd2ff629a964"
      },
      "execution_count": 81,
      "outputs": [
        {
          "output_type": "stream",
          "name": "stdout",
          "text": [
            "76.34% de 186 palavras, desconhecidas 6.99%\n"
          ]
        }
      ]
    },
    {
      "cell_type": "code",
      "source": [
        "# comparando os resultados dos corretores\n",
        "palavra = \"lgica\"\n",
        "print('Corretor turbinado -> '+ novo_corretor(palavra))\n",
        "print('Corretor de verificação única -> '+ corretor(palavra))"
      ],
      "metadata": {
        "colab": {
          "base_uri": "https://localhost:8080/"
        },
        "id": "uB4a_HdTtesK",
        "outputId": "611bd0e1-2d97-48f5-e1f0-b02f28ac6869"
      },
      "execution_count": 84,
      "outputs": [
        {
          "output_type": "stream",
          "name": "stdout",
          "text": [
            "Corretor turbinado -> fica\n",
            "Corretor de verificação única -> lógica\n"
          ]
        }
      ]
    }
  ]
}